{
 "cells": [
  {
   "cell_type": "code",
   "execution_count": 1,
   "metadata": {},
   "outputs": [],
   "source": [
    "import matplotlib\n",
    "import matplotlib.pyplot as plt\n",
    "import numpy as np\n",
    "import math\n",
    "import os\n",
    "#Hack to fix missing PROJ4 env var\n",
    "import conda\n",
    "conda_file_dir = conda.__file__\n",
    "conda_dir = conda_file_dir.split('lib')[0]\n",
    "proj_lib = os.path.join(os.path.join(conda_dir, 'share'), 'proj')\n",
    "os.environ[\"PROJ_LIB\"] = proj_lib\n",
    "\n",
    "from mpl_toolkits.basemap import Basemap, cm"
   ]
  },
  {
   "cell_type": "code",
   "execution_count": 2,
   "metadata": {},
   "outputs": [
    {
     "name": "stdout",
     "output_type": "stream",
     "text": [
      "/home/kinoshita\n",
      "1:0:vt=2017061117:surface:-10-0 min acc fcst:var discipline=0 center=34 local_table=1 parmcat=1 parm=201:\n",
      "    ndata=8601600:undef=6248437:mean=0.0318277:min=0:max=107.5\n",
      "    grid_template=0:winds(N/S):\n",
      "\tlat-lon grid:(2560 x 3360) units 1e-06 input WE:NS output WE:NS res 48\n",
      "\tlat 47.995833 to 20.004167 by 0.008333\n",
      "\tlon 118.006250 to 149.993750 by 0.012500 #points=8601600\n",
      "\n",
      "** Warning: reference time includes non-zero minutes/seconds **\n",
      "1:0:d=2017061117:var discipline=0 center=34 local_table=1 parmcat=1 parm=201:surface:-10-0 min acc fcst:\n"
     ]
    }
   ],
   "source": [
    "%cd ~\n",
    "sample = '/home/kinoshita/synthetic/bin/Z__C_RJTD_20170611173000_RDR_JMAGPV_Ggis1km_Prr10lv_ANAL_grib2.bin'\n",
    "!wgrib2 $sample -order we:ns -V\n",
    "!wgrib2 $sample -order we:ns -no_header -bin ~/out.bin"
   ]
  },
  {
   "cell_type": "code",
   "execution_count": 5,
   "metadata": {},
   "outputs": [],
   "source": [
    "def convert_rep_to_level(intensity):\n",
    "    '''\n",
    "    https://www.data.jma.go.jp/add/suishin/catalogue/format/ObdObs001_format.pdf\n",
    "    ※3 1kmメッシュ気象庁レーダー全国合成のレベル値(0~251)に沿って変換する\n",
    "    '''\n",
    "    intensity_level = np.zeros_like(intensity)\n",
    "    intensity_level[intensity==9.999e+20] = 0  # レーダー外の値\n",
    "    intensity_level[intensity==0.1] = 0\n",
    "    intensity_level[intensity==260] = 256\n",
    "\n",
    "    step_list = [0.1, 0.25, 0.5, 1.0, 2]\n",
    "    block_first = [0.25, 2.13, 5.25, 10.5, 181]\n",
    "    data_num = [18, 12, 10, 170, 38]\n",
    "\n",
    "    for i, step in enumerate(step_list):\n",
    "        rep = block_first[i] - step\n",
    "        for i in list(range(data_num[i])):\n",
    "            rep = round(rep + step, 2)\n",
    "            mmh = round((rep*2-step)/2, 2)\n",
    "            #print(rep, mmh)\n",
    "            intensity_level[intensity==rep] = mmh\n",
    "            \n",
    "    return intensity_level"
   ]
  },
  {
   "cell_type": "code",
   "execution_count": 6,
   "metadata": {},
   "outputs": [],
   "source": [
    "# 読み込み\n",
    "f = open('/home/kinoshita/out.bin', mode='rb')\n",
    "intensity = np.fromfile(f, dtype='float32',sep='').reshape(3360,2560)"
   ]
  },
  {
   "cell_type": "code",
   "execution_count": 7,
   "metadata": {},
   "outputs": [],
   "source": [
    "intensity_level = convert_rep_to_level(intensity)"
   ]
  },
  {
   "cell_type": "code",
   "execution_count": 10,
   "metadata": {},
   "outputs": [],
   "source": [
    "intensity=intensity_level"
   ]
  },
  {
   "cell_type": "code",
   "execution_count": 11,
   "metadata": {},
   "outputs": [
    {
     "name": "stdout",
     "output_type": "stream",
     "text": [
      "33.325 29.333333333333332 128.35 132.3375\n"
     ]
    },
    {
     "name": "stderr",
     "output_type": "stream",
     "text": [
      "/home/kinoshita/.pyenv/versions/anaconda3-5.3.1/lib/python3.7/site-packages/matplotlib/contour.py:1000: UserWarning: The following kwargs were not used by contour: 'tri'\n",
      "  s)\n"
     ]
    },
    {
     "data": {
      "image/png": "[encoded data removed]",
      "text/plain": [
       "<Figure size 432x288 with 2 Axes>"
      ]
     },
     "metadata": {
      "needs_background": "light"
     },
     "output_type": "display_data"
    }
   ],
   "source": [
    "# 緯度経度の設定\n",
    "grid_shape = (3360,2560)\n",
    "lat_step = (48-20) / grid_shape[0]\n",
    "lon_step = (150-118) / grid_shape[1]\n",
    "\n",
    "lats = np.zeros((grid_shape[0],1))\n",
    "lons = np.zeros((1,grid_shape[1]))\n",
    "\n",
    "for i in list(range(grid_shape[0])):\n",
    "    lats[i][0] = 48 - i*lat_step\n",
    "for i in list(range(grid_shape[1])):\n",
    "    lons[0][i] = 118 + i*lon_step\n",
    "\n",
    "lats = np.tile(lats, (1,grid_shape[1]))\n",
    "lons = np.tile(lons, (grid_shape[0],1))\n",
    "\n",
    "# 座標を指定，その周辺を切り取る\n",
    "city = (31.33, 130.34)\n",
    "#city=(35,140)\n",
    "#city=(36,135)\n",
    "d = 2\n",
    "\n",
    "n = np.where(lats[:,0]<city[0]+d)[0][0]\n",
    "s = np.where(city[0]-d<lats[:,0])[0][-1]\n",
    "e = np.where(city[1]-d<lons[0,:])[0][0]\n",
    "w = np.where(lons[0,:]<city[1]+d)[0][-1]\n",
    "print(lats[:,0][n],lats[:,0][s],lons[0,:][e],lons[0,:][w])\n",
    "\n",
    "# 切り出し\n",
    "intensity_city = intensity[n:s,e:w]\n",
    "lats_city = lats[n:s,e:w]\n",
    "lons_city = lons[n:s,e:w]\n",
    "\n",
    "flat_lats_city = np.ravel(lats_city)\n",
    "flat_lons_city = np.ravel(lons_city)\n",
    "\n",
    "# 描画\n",
    "m = Basemap(llcrnrlat=lats_city.min(),urcrnrlat=lats_city.max(), \\\n",
    "                    llcrnrlon=lons_city.min(),urcrnrlon=lons_city.max())  # 描画矩形座標を指定\n",
    "m.drawcoastlines()  # 海岸線\n",
    "m.contourf(flat_lons_city, flat_lats_city, intensity_city, latlon=True, tri=True, cmap=plt.cm.jet) \n",
    "\n",
    "plt.colorbar()\n",
    "plt.show()"
   ]
  },
  {
   "cell_type": "code",
   "execution_count": 20,
   "metadata": {},
   "outputs": [],
   "source": [
    "cm = plt.cm.jet\n",
    "cm_list = cm(np.arange(cm.N))\n",
    "#print(cm_list.shape)  # (256, 4)\n",
    "cm_list[0,-1] = 0.1    # 透明度alphaを0.3に\n",
    "from matplotlib.colors import ListedColormap\n",
    "mycmap = ListedColormap(cm_list)"
   ]
  },
  {
   "cell_type": "code",
   "execution_count": 22,
   "metadata": {
    "scrolled": true
   },
   "outputs": [
    {
     "name": "stderr",
     "output_type": "stream",
     "text": [
      "/home/kinoshita/.pyenv/versions/anaconda3-5.3.1/lib/python3.7/site-packages/matplotlib/contour.py:1000: UserWarning: The following kwargs were not used by contour: 'tri'\n",
      "  s)\n"
     ]
    },
    {
     "data": {
      "image/png": "[encoded data removed]",
      "text/plain": [
       "<Figure size 432x288 with 2 Axes>"
      ]
     },
     "metadata": {
      "needs_background": "light"
     },
     "output_type": "display_data"
    }
   ],
   "source": [
    "m = Basemap(llcrnrlat=lats_city.min(),urcrnrlat=lats_city.max(), \\\n",
    "                    llcrnrlon=lons_city.min(),urcrnrlon=lons_city.max())  # 描画矩形座標を指定\n",
    "m.drawcoastlines()  # 海岸線\n",
    "m.contourf(flat_lons_city, flat_lats_city, intensity_city,latlon=True, tri=True, cmap=mycmap) \n",
    "\n",
    "plt.colorbar()\n",
    "plt.show()"
   ]
  },
  {
   "cell_type": "code",
   "execution_count": null,
   "metadata": {},
   "outputs": [],
   "source": []
  }
 ],
 "metadata": {
  "kernelspec": {
   "display_name": "Python 3",
   "language": "python",
   "name": "python3"
  },
  "language_info": {
   "codemirror_mode": {
    "name": "ipython",
    "version": 3
   },
   "file_extension": ".py",
   "mimetype": "text/x-python",
   "name": "python",
   "nbconvert_exporter": "python",
   "pygments_lexer": "ipython3",
   "version": "3.7.1"
  }
 },
 "nbformat": 4,
 "nbformat_minor": 2
}
