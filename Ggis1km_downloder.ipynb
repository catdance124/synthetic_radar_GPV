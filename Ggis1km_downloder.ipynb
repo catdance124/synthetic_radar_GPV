{
 "cells": [
  {
   "cell_type": "code",
   "execution_count": null,
   "metadata": {},
   "outputs": [],
   "source": [
    "import os\n",
    "import datetime"
   ]
  },
  {
   "cell_type": "code",
   "execution_count": null,
   "metadata": {},
   "outputs": [],
   "source": [
    "class Downloader:\n",
    "    def __init__(self):\n",
    "        self.tar_path = '/home/kinoshita/synthetic/tar'\n",
    "        self.bin_path = '/mnt/hgfs/kagoshima/bin'  # Seminarをマウントしている\n",
    "        %mkdir -p $self.tar_path\n",
    "        self.delete_directory(tar_flag=True)\n",
    "        %mkdir -p $self.tar_path\n",
    "        %mkdir -p $self.bin_path\n",
    "        %cd ~/synthetic/tar\n",
    "    \n",
    "    def set_date(self, dt):\n",
    "        # URLを指定\n",
    "        directory = 'http://database.rish.kyoto-u.ac.jp/arch/jmadata/data/jma-radar/synthetic/original'\n",
    "        date = dt.strftime('%Y/%m/%d')\n",
    "        self.timestamp = dt.strftime('%Y%m%d%H%M%S')\n",
    "        self.tar_filename = 'Z__C_RJTD_'+self.timestamp+'_RDR_JMAGPV__grib2.tar'\n",
    "        self.URL = directory +'/'+ date +'/'+ self.tar_filename\n",
    "        \n",
    "    def get_bin_file(self):\n",
    "        # binファイルがあるかを確認\n",
    "        bin_file_path = self.bin_path+'/Z__C_RJTD_'+self.timestamp+'_RDR_JMAGPV_Ggis1km_Prr10lv_ANAL_grib2.bin'\n",
    "        if os.path.exists(bin_file_path):\n",
    "            print('already exist: ',bin_file_path)\n",
    "        else:\n",
    "            # tarファイルを~/tarに保存\n",
    "            _ = !wget -nc -P $self.tar_path $self.URL\n",
    "            # tarファイルから1kmメッシュデータのみを取り出す\n",
    "            filelist = !tar -tf $self.tar_filename  # tarファイル内ファイル名リスト\n",
    "            ggis_name = [s for s in filelist if 'Ggis1km' in s][0]  # ファイル名を取得\n",
    "            !tar -C $self.bin_path -xvf $self.tar_filename $ggis_name # tarファイルから1kmメッシュ全国合成レーダーエコー強度GPVのみを/binに取り出す\n",
    "            !rm $self.tar_filename  # tarファイルは不要なので削除\n",
    "    \n",
    "    def delete_directory(self, tar_flag=False, bin_flag=False):\n",
    "        if tar_flag:\n",
    "            !rm -r $self.tar_path\n",
    "        if bin_flag:\n",
    "            !rm -r $self.bin_path"
   ]
  },
  {
   "cell_type": "code",
   "execution_count": null,
   "metadata": {
    "scrolled": false
   },
   "outputs": [],
   "source": [
    "start = '2017/01/01 00:00:00'\n",
    "end = '2018/01/01 00:00:00'\n",
    "dt = datetime.datetime.strptime(start, '%Y/%m/%d %H:%M:%S')\n",
    "dt_limit = datetime.datetime.strptime(end, '%Y/%m/%d %H:%M:%S')\n",
    "\n",
    "downloader = Downloader()\n",
    "while dt < dt_limit:\n",
    "    downloader.set_date(dt)\n",
    "    downloader.get_bin_file()\n",
    "    dt = dt + datetime.timedelta(minutes=10)"
   ]
  }
 ],
 "metadata": {
  "kernelspec": {
   "display_name": "Python 3",
   "language": "python",
   "name": "python3"
  },
  "language_info": {
   "codemirror_mode": {
    "name": "ipython",
    "version": 3
   },
   "file_extension": ".py",
   "mimetype": "text/x-python",
   "name": "python",
   "nbconvert_exporter": "python",
   "pygments_lexer": "ipython3",
   "version": "3.7.2"
  }
 },
 "nbformat": 4,
 "nbformat_minor": 2
}
