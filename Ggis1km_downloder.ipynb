{
 "cells": [
  {
   "cell_type": "code",
   "execution_count": 4,
   "metadata": {},
   "outputs": [],
   "source": [
    "import os\n",
    "import datetime"
   ]
  },
  {
   "cell_type": "code",
   "execution_count": 5,
   "metadata": {},
   "outputs": [],
   "source": [
    "class Downloader:\n",
    "    def __init__(self):\n",
    "        self.tar_path = '/home/ubuntu/synthetic/tar'\n",
    "        self.bin_path = '/mnt/hgfs/kagoshima/bin'  # Seminarをマウントしている\n",
    "        %mkdir -p $self.tar_path\n",
    "        #self.delete_directory(tar_flag=True)\n",
    "        %mkdir -p $self.tar_path\n",
    "        %mkdir -p $self.bin_path\n",
    "        %cd ~/synthetic/tar\n",
    "    \n",
    "    def set_date(self, dt):\n",
    "        # URLを指定\n",
    "        directory = 'http://database.rish.kyoto-u.ac.jp/arch/jmadata/data/jma-radar/synthetic/original'\n",
    "        date = dt.strftime('%Y/%m/%d')\n",
    "        self.timestamp = dt.strftime('%Y%m%d%H%M%S')\n",
    "        self.tar_filename = 'Z__C_RJTD_'+self.timestamp+'_RDR_JMAGPV__grib2.tar'\n",
    "        self.URL = directory +'/'+ date +'/'+ self.tar_filename\n",
    "        self.bin_path_year = self.bin_path + '/' + dt.strftime('%Y')\n",
    "        %mkdir -p $self.bin_path_year\n",
    "        \n",
    "    def get_bin_file(self):\n",
    "        # binファイルがあるかを確認\n",
    "        bin_file_path = self.bin_path_year+'/Z__C_RJTD_'+self.timestamp+'_RDR_JMAGPV_Ggis1km_Prr10lv_ANAL_grib2.bin'\n",
    "        if os.path.exists(bin_file_path):\n",
    "            #print('already exist: ',bin_file_path)\n",
    "            self.out_available(1)\n",
    "            #pass\n",
    "        else:\n",
    "            # tarファイルを~/tarに保存\n",
    "            wget_result = !wget -nc -P $self.tar_path $self.URL\n",
    "            download_error = [s for s in wget_result if 'エラー' in s]\n",
    "            if download_error:  # ダウンロードエラーの場合\n",
    "                self.out_error_URL('download error')\n",
    "            else:\n",
    "                # tarファイルから1kmメッシュデータのみを取り出す\n",
    "                filelist = !tar -tf $self.tar_filename  # tarファイル内ファイル名リスト\n",
    "                ggis_name = [s for s in filelist if 'Ggis1km' in s]  # ファイル名を取得\n",
    "                if ggis_name:\n",
    "                    ggis_name = ggis_name[0]\n",
    "                    !tar -C $self.bin_path_year -xvf $self.tar_filename $ggis_name # tarファイルから1kmメッシュ全国合成レーダーエコー強度GPVのみを/binに取り出す\n",
    "                    !rm $self.tar_filename  # tarファイルは不要なので削除\n",
    "                    self.out_available(1)\n",
    "                else:\n",
    "                    self.out_error_URL('tarfile error')\n",
    "                        \n",
    "    def out_error_URL(self, error_name):\n",
    "        print(error_name+': '+self.URL)\n",
    "        with open('/mnt/hgfs/kagoshima/bin/error_URL_'+self.timestamp[:4]+'.csv', 'a') as f:\n",
    "            f.write(error_name+','+self.URL+'\\n')\n",
    "        self.out_available(0)\n",
    "    \n",
    "    def out_available(self, n):\n",
    "        with open('/mnt/hgfs/kagoshima/bin/available.csv', 'a') as f:\n",
    "            f.write(self.timestamp+','+str(n)+'\\n')\n",
    "    \n",
    "    def delete_directory(self, tar_flag=False, bin_flag=False):\n",
    "        if tar_flag:\n",
    "            !rm -r $self.tar_path\n",
    "        if bin_flag:\n",
    "            !rm -r $self.bin_path"
   ]
  },
  {
   "cell_type": "code",
   "execution_count": null,
   "metadata": {
    "scrolled": true
   },
   "outputs": [
    {
     "name": "stdout",
     "output_type": "stream",
     "text": [
      "/home/ubuntu/synthetic/tar\n",
      "download error: http://database.rish.kyoto-u.ac.jp/arch/jmadata/data/jma-radar/synthetic/original/2005/10/22/Z__C_RJTD_20051022012000_RDR_JMAGPV__grib2.tar\n",
      "download error: http://database.rish.kyoto-u.ac.jp/arch/jmadata/data/jma-radar/synthetic/original/2005/10/24/Z__C_RJTD_20051024031000_RDR_JMAGPV__grib2.tar\n",
      "download error: http://database.rish.kyoto-u.ac.jp/arch/jmadata/data/jma-radar/synthetic/original/2005/10/28/Z__C_RJTD_20051028070000_RDR_JMAGPV__grib2.tar\n",
      "download error: http://database.rish.kyoto-u.ac.jp/arch/jmadata/data/jma-radar/synthetic/original/2005/10/28/Z__C_RJTD_20051028071000_RDR_JMAGPV__grib2.tar\n"
     ]
    }
   ],
   "source": [
    "start = '2005/10/21 00:00:00'\n",
    "end = '2019/01/01 00:00:00'\n",
    "dt = datetime.datetime.strptime(start, '%Y/%m/%d %H:%M:%S')\n",
    "dt_limit = datetime.datetime.strptime(end, '%Y/%m/%d %H:%M:%S')\n",
    "\n",
    "downloader = Downloader()\n",
    "while dt < dt_limit:\n",
    "    downloader.set_date(dt)\n",
    "    downloader.get_bin_file()\n",
    "    dt = dt + datetime.timedelta(minutes=10)"
   ]
  },
  {
   "cell_type": "code",
   "execution_count": null,
   "metadata": {},
   "outputs": [],
   "source": [
    "    "
   ]
  }
 ],
 "metadata": {
  "kernelspec": {
   "display_name": "Python 3",
   "language": "python",
   "name": "python3"
  },
  "language_info": {
   "codemirror_mode": {
    "name": "ipython",
    "version": 3
   },
   "file_extension": ".py",
   "mimetype": "text/x-python",
   "name": "python",
   "nbconvert_exporter": "python",
   "pygments_lexer": "ipython3",
   "version": "3.7.0"
  }
 },
 "nbformat": 4,
 "nbformat_minor": 2
}
