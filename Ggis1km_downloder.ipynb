{
 "cells": [
  {
   "cell_type": "code",
   "execution_count": 1,
   "metadata": {},
   "outputs": [],
   "source": [
    "import os\n",
    "import datetime"
   ]
  },
  {
   "cell_type": "code",
   "execution_count": 4,
   "metadata": {},
   "outputs": [],
   "source": [
    "class Downloader:\n",
    "    def __init__(self):\n",
    "        self.tar_path = '/home/ubuntu/synthetic/tar'\n",
    "        self.bin_path = '/mnt/hgfs/kagoshima/bin'  # Seminarをマウントしている\n",
    "        %mkdir -p $self.tar_path\n",
    "        self.delete_directory(tar_flag=True)\n",
    "        %mkdir -p $self.tar_path\n",
    "        %mkdir -p $self.bin_path\n",
    "        %cd ~/synthetic/tar\n",
    "    \n",
    "    def set_date(self, dt):\n",
    "        # URLを指定\n",
    "        directory = 'http://database.rish.kyoto-u.ac.jp/arch/jmadata/data/jma-radar/synthetic/original'\n",
    "        date = dt.strftime('%Y/%m/%d')\n",
    "        self.timestamp = dt.strftime('%Y%m%d%H%M%S')\n",
    "        self.tar_filename = 'Z__C_RJTD_'+self.timestamp+'_RDR_JMAGPV__grib2.tar'\n",
    "        self.URL = directory +'/'+ date +'/'+ self.tar_filename\n",
    "        self.bin_path_year = self.bin_path + '/' + dt.strftime('%Y')\n",
    "        %mkdir -p $self.bin_path_year\n",
    "        \n",
    "    def get_bin_file(self):\n",
    "        # binファイルがあるかを確認\n",
    "        bin_file_path = self.bin_path_year+'/Z__C_RJTD_'+self.timestamp+'_RDR_JMAGPV_Ggis1km_Prr10lv_ANAL_grib2.bin'\n",
    "        if os.path.exists(bin_file_path):\n",
    "            print('already exist: ',bin_file_path)\n",
    "        else:\n",
    "            # tarファイルを~/tarに保存\n",
    "            _ = !wget -nc -P $self.tar_path $self.URL\n",
    "            # tarファイルから1kmメッシュデータのみを取り出す\n",
    "            filelist = !tar -tf $self.tar_filename  # tarファイル内ファイル名リスト\n",
    "            ggis_name = [s for s in filelist if 'Ggis1km' in s][0]  # ファイル名を取得\n",
    "            !tar -C $self.bin_path_year -xvf $self.tar_filename $ggis_name # tarファイルから1kmメッシュ全国合成レーダーエコー強度GPVのみを/binに取り出す\n",
    "            !rm $self.tar_filename  # tarファイルは不要なので削除\n",
    "    \n",
    "    def delete_directory(self, tar_flag=False, bin_flag=False):\n",
    "        if tar_flag:\n",
    "            !rm -r $self.tar_path\n",
    "        if bin_flag:\n",
    "            !rm -r $self.bin_path"
   ]
  },
  {
   "cell_type": "code",
   "execution_count": null,
   "metadata": {
    "scrolled": false
   },
   "outputs": [
    {
     "name": "stdout",
     "output_type": "stream",
     "text": [
      "/home/ubuntu/synthetic/tar\n",
      "Z__C_RJTD_20170101000000_RDR_JMAGPV_Ggis1km_Prr10lv_ANAL_grib2.bin\n",
      "Z__C_RJTD_20170101001000_RDR_JMAGPV_Ggis1km_Prr10lv_ANAL_grib2.bin\n",
      "Z__C_RJTD_20170101002000_RDR_JMAGPV_Ggis1km_Prr10lv_ANAL_grib2.bin\n",
      "Z__C_RJTD_20170101003000_RDR_JMAGPV_Ggis1km_Prr10lv_ANAL_grib2.bin\n",
      "Z__C_RJTD_20170101004000_RDR_JMAGPV_Ggis1km_Prr10lv_ANAL_grib2.bin\n",
      "Z__C_RJTD_20170101005000_RDR_JMAGPV_Ggis1km_Prr10lv_ANAL_grib2.bin\n",
      "Z__C_RJTD_20170101010000_RDR_JMAGPV_Ggis1km_Prr10lv_ANAL_grib2.bin\n",
      "Z__C_RJTD_20170101011000_RDR_JMAGPV_Ggis1km_Prr10lv_ANAL_grib2.bin\n",
      "Z__C_RJTD_20170101012000_RDR_JMAGPV_Ggis1km_Prr10lv_ANAL_grib2.bin\n",
      "Z__C_RJTD_20170101013000_RDR_JMAGPV_Ggis1km_Prr10lv_ANAL_grib2.bin\n",
      "Z__C_RJTD_20170101014000_RDR_JMAGPV_Ggis1km_Prr10lv_ANAL_grib2.bin\n",
      "Z__C_RJTD_20170101015000_RDR_JMAGPV_Ggis1km_Prr10lv_ANAL_grib2.bin\n",
      "Z__C_RJTD_20170101020000_RDR_JMAGPV_Ggis1km_Prr10lv_ANAL_grib2.bin\n",
      "Z__C_RJTD_20170101021000_RDR_JMAGPV_Ggis1km_Prr10lv_ANAL_grib2.bin\n",
      "Z__C_RJTD_20170101022000_RDR_JMAGPV_Ggis1km_Prr10lv_ANAL_grib2.bin\n",
      "Z__C_RJTD_20170101023000_RDR_JMAGPV_Ggis1km_Prr10lv_ANAL_grib2.bin\n",
      "Z__C_RJTD_20170101024000_RDR_JMAGPV_Ggis1km_Prr10lv_ANAL_grib2.bin\n",
      "Z__C_RJTD_20170101025000_RDR_JMAGPV_Ggis1km_Prr10lv_ANAL_grib2.bin\n",
      "Z__C_RJTD_20170101030000_RDR_JMAGPV_Ggis1km_Prr10lv_ANAL_grib2.bin\n",
      "Z__C_RJTD_20170101031000_RDR_JMAGPV_Ggis1km_Prr10lv_ANAL_grib2.bin\n",
      "Z__C_RJTD_20170101032000_RDR_JMAGPV_Ggis1km_Prr10lv_ANAL_grib2.bin\n",
      "Z__C_RJTD_20170101033000_RDR_JMAGPV_Ggis1km_Prr10lv_ANAL_grib2.bin\n",
      "Z__C_RJTD_20170101034000_RDR_JMAGPV_Ggis1km_Prr10lv_ANAL_grib2.bin\n",
      "Z__C_RJTD_20170101035000_RDR_JMAGPV_Ggis1km_Prr10lv_ANAL_grib2.bin\n",
      "Z__C_RJTD_20170101040000_RDR_JMAGPV_Ggis1km_Prr10lv_ANAL_grib2.bin\n",
      "Z__C_RJTD_20170101041000_RDR_JMAGPV_Ggis1km_Prr10lv_ANAL_grib2.bin\n",
      "Z__C_RJTD_20170101042000_RDR_JMAGPV_Ggis1km_Prr10lv_ANAL_grib2.bin\n",
      "Z__C_RJTD_20170101043000_RDR_JMAGPV_Ggis1km_Prr10lv_ANAL_grib2.bin\n",
      "Z__C_RJTD_20170101044000_RDR_JMAGPV_Ggis1km_Prr10lv_ANAL_grib2.bin\n",
      "Z__C_RJTD_20170101045000_RDR_JMAGPV_Ggis1km_Prr10lv_ANAL_grib2.bin\n",
      "Z__C_RJTD_20170101050000_RDR_JMAGPV_Ggis1km_Prr10lv_ANAL_grib2.bin\n",
      "Z__C_RJTD_20170101051000_RDR_JMAGPV_Ggis1km_Prr10lv_ANAL_grib2.bin\n",
      "Z__C_RJTD_20170101052000_RDR_JMAGPV_Ggis1km_Prr10lv_ANAL_grib2.bin\n",
      "Z__C_RJTD_20170101053000_RDR_JMAGPV_Ggis1km_Prr10lv_ANAL_grib2.bin\n",
      "Z__C_RJTD_20170101054000_RDR_JMAGPV_Ggis1km_Prr10lv_ANAL_grib2.bin\n",
      "Z__C_RJTD_20170101055000_RDR_JMAGPV_Ggis1km_Prr10lv_ANAL_grib2.bin\n",
      "Z__C_RJTD_20170101060000_RDR_JMAGPV_Ggis1km_Prr10lv_ANAL_grib2.bin\n",
      "Z__C_RJTD_20170101061000_RDR_JMAGPV_Ggis1km_Prr10lv_ANAL_grib2.bin\n",
      "Z__C_RJTD_20170101062000_RDR_JMAGPV_Ggis1km_Prr10lv_ANAL_grib2.bin\n",
      "Z__C_RJTD_20170101063000_RDR_JMAGPV_Ggis1km_Prr10lv_ANAL_grib2.bin\n",
      "Z__C_RJTD_20170101064000_RDR_JMAGPV_Ggis1km_Prr10lv_ANAL_grib2.bin\n",
      "Z__C_RJTD_20170101065000_RDR_JMAGPV_Ggis1km_Prr10lv_ANAL_grib2.bin\n",
      "Z__C_RJTD_20170101070000_RDR_JMAGPV_Ggis1km_Prr10lv_ANAL_grib2.bin\n",
      "Z__C_RJTD_20170101071000_RDR_JMAGPV_Ggis1km_Prr10lv_ANAL_grib2.bin\n",
      "Z__C_RJTD_20170101072000_RDR_JMAGPV_Ggis1km_Prr10lv_ANAL_grib2.bin\n",
      "Z__C_RJTD_20170101073000_RDR_JMAGPV_Ggis1km_Prr10lv_ANAL_grib2.bin\n",
      "Z__C_RJTD_20170101074000_RDR_JMAGPV_Ggis1km_Prr10lv_ANAL_grib2.bin\n",
      "Z__C_RJTD_20170101075000_RDR_JMAGPV_Ggis1km_Prr10lv_ANAL_grib2.bin\n",
      "Z__C_RJTD_20170101080000_RDR_JMAGPV_Ggis1km_Prr10lv_ANAL_grib2.bin\n",
      "Z__C_RJTD_20170101081000_RDR_JMAGPV_Ggis1km_Prr10lv_ANAL_grib2.bin\n",
      "Z__C_RJTD_20170101082000_RDR_JMAGPV_Ggis1km_Prr10lv_ANAL_grib2.bin\n",
      "Z__C_RJTD_20170101083000_RDR_JMAGPV_Ggis1km_Prr10lv_ANAL_grib2.bin\n",
      "Z__C_RJTD_20170101084000_RDR_JMAGPV_Ggis1km_Prr10lv_ANAL_grib2.bin\n",
      "Z__C_RJTD_20170101085000_RDR_JMAGPV_Ggis1km_Prr10lv_ANAL_grib2.bin\n",
      "Z__C_RJTD_20170101090000_RDR_JMAGPV_Ggis1km_Prr10lv_ANAL_grib2.bin\n",
      "Z__C_RJTD_20170101091000_RDR_JMAGPV_Ggis1km_Prr10lv_ANAL_grib2.bin\n",
      "Z__C_RJTD_20170101092000_RDR_JMAGPV_Ggis1km_Prr10lv_ANAL_grib2.bin\n",
      "Z__C_RJTD_20170101093000_RDR_JMAGPV_Ggis1km_Prr10lv_ANAL_grib2.bin\n",
      "Z__C_RJTD_20170101094000_RDR_JMAGPV_Ggis1km_Prr10lv_ANAL_grib2.bin\n",
      "Z__C_RJTD_20170101095000_RDR_JMAGPV_Ggis1km_Prr10lv_ANAL_grib2.bin\n",
      "Z__C_RJTD_20170101100000_RDR_JMAGPV_Ggis1km_Prr10lv_ANAL_grib2.bin\n",
      "Z__C_RJTD_20170101101000_RDR_JMAGPV_Ggis1km_Prr10lv_ANAL_grib2.bin\n",
      "Z__C_RJTD_20170101102000_RDR_JMAGPV_Ggis1km_Prr10lv_ANAL_grib2.bin\n",
      "^C\n"
     ]
    },
    {
     "ename": "IndexError",
     "evalue": "list index out of range",
     "output_type": "error",
     "traceback": [
      "\u001b[0;31m---------------------------------------------------------------------------\u001b[0m",
      "\u001b[0;31mIndexError\u001b[0m                                Traceback (most recent call last)",
      "\u001b[0;32m<ipython-input-5-15561b8063d9>\u001b[0m in \u001b[0;36m<module>\u001b[0;34m()\u001b[0m\n\u001b[1;32m      7\u001b[0m \u001b[0;32mwhile\u001b[0m \u001b[0mdt\u001b[0m \u001b[0;34m<\u001b[0m \u001b[0mdt_limit\u001b[0m\u001b[0;34m:\u001b[0m\u001b[0;34m\u001b[0m\u001b[0m\n\u001b[1;32m      8\u001b[0m     \u001b[0mdownloader\u001b[0m\u001b[0;34m.\u001b[0m\u001b[0mset_date\u001b[0m\u001b[0;34m(\u001b[0m\u001b[0mdt\u001b[0m\u001b[0;34m)\u001b[0m\u001b[0;34m\u001b[0m\u001b[0m\n\u001b[0;32m----> 9\u001b[0;31m     \u001b[0mdownloader\u001b[0m\u001b[0;34m.\u001b[0m\u001b[0mget_bin_file\u001b[0m\u001b[0;34m(\u001b[0m\u001b[0;34m)\u001b[0m\u001b[0;34m\u001b[0m\u001b[0m\n\u001b[0m\u001b[1;32m     10\u001b[0m     \u001b[0mdt\u001b[0m \u001b[0;34m=\u001b[0m \u001b[0mdt\u001b[0m \u001b[0;34m+\u001b[0m \u001b[0mdatetime\u001b[0m\u001b[0;34m.\u001b[0m\u001b[0mtimedelta\u001b[0m\u001b[0;34m(\u001b[0m\u001b[0mminutes\u001b[0m\u001b[0;34m=\u001b[0m\u001b[0;36m10\u001b[0m\u001b[0;34m)\u001b[0m\u001b[0;34m\u001b[0m\u001b[0m\n",
      "\u001b[0;32m<ipython-input-4-2b3f3c18e692>\u001b[0m in \u001b[0;36mget_bin_file\u001b[0;34m(self)\u001b[0m\n\u001b[1;32m     29\u001b[0m             \u001b[0;31m# tarファイルから1kmメッシュデータのみを取り出す\u001b[0m\u001b[0;34m\u001b[0m\u001b[0;34m\u001b[0m\u001b[0m\n\u001b[1;32m     30\u001b[0m             \u001b[0mfilelist\u001b[0m \u001b[0;34m=\u001b[0m \u001b[0mget_ipython\u001b[0m\u001b[0;34m(\u001b[0m\u001b[0;34m)\u001b[0m\u001b[0;34m.\u001b[0m\u001b[0mgetoutput\u001b[0m\u001b[0;34m(\u001b[0m\u001b[0;34m'tar -tf $self.tar_filename  # tarファイル内ファイル名リスト'\u001b[0m\u001b[0;34m)\u001b[0m\u001b[0;34m\u001b[0m\u001b[0m\n\u001b[0;32m---> 31\u001b[0;31m             \u001b[0mggis_name\u001b[0m \u001b[0;34m=\u001b[0m \u001b[0;34m[\u001b[0m\u001b[0ms\u001b[0m \u001b[0;32mfor\u001b[0m \u001b[0ms\u001b[0m \u001b[0;32min\u001b[0m \u001b[0mfilelist\u001b[0m \u001b[0;32mif\u001b[0m \u001b[0;34m'Ggis1km'\u001b[0m \u001b[0;32min\u001b[0m \u001b[0ms\u001b[0m\u001b[0;34m]\u001b[0m\u001b[0;34m[\u001b[0m\u001b[0;36m0\u001b[0m\u001b[0;34m]\u001b[0m  \u001b[0;31m# ファイル名を取得\u001b[0m\u001b[0;34m\u001b[0m\u001b[0m\n\u001b[0m\u001b[1;32m     32\u001b[0m             \u001b[0mget_ipython\u001b[0m\u001b[0;34m(\u001b[0m\u001b[0;34m)\u001b[0m\u001b[0;34m.\u001b[0m\u001b[0msystem\u001b[0m\u001b[0;34m(\u001b[0m\u001b[0;34m'tar -C $self.bin_path_year -xvf $self.tar_filename $ggis_name # tarファイルから1kmメッシュ全国合成レーダーエコー強度GPVのみを/binに取り出す'\u001b[0m\u001b[0;34m)\u001b[0m\u001b[0;34m\u001b[0m\u001b[0m\n\u001b[1;32m     33\u001b[0m             \u001b[0mget_ipython\u001b[0m\u001b[0;34m(\u001b[0m\u001b[0;34m)\u001b[0m\u001b[0;34m.\u001b[0m\u001b[0msystem\u001b[0m\u001b[0;34m(\u001b[0m\u001b[0;34m'rm $self.tar_filename  # tarファイルは不要なので削除'\u001b[0m\u001b[0;34m)\u001b[0m\u001b[0;34m\u001b[0m\u001b[0m\n",
      "\u001b[0;31mIndexError\u001b[0m: list index out of range"
     ]
    }
   ],
   "source": [
    "start = '2017/01/01 00:00:00'\n",
    "end = '2018/01/01 00:00:00'\n",
    "dt = datetime.datetime.strptime(start, '%Y/%m/%d %H:%M:%S')\n",
    "dt_limit = datetime.datetime.strptime(end, '%Y/%m/%d %H:%M:%S')\n",
    "\n",
    "downloader = Downloader()\n",
    "while dt < dt_limit:\n",
    "    downloader.set_date(dt)\n",
    "    downloader.get_bin_file()\n",
    "    dt = dt + datetime.timedelta(minutes=10)"
   ]
  },
  {
   "cell_type": "code",
   "execution_count": null,
   "metadata": {},
   "outputs": [],
   "source": []
  }
 ],
 "metadata": {
  "kernelspec": {
   "display_name": "Python 3",
   "language": "python",
   "name": "python3"
  },
  "language_info": {
   "codemirror_mode": {
    "name": "ipython",
    "version": 3
   },
   "file_extension": ".py",
   "mimetype": "text/x-python",
   "name": "python",
   "nbconvert_exporter": "python",
   "pygments_lexer": "ipython3",
   "version": "3.7.0"
  }
 },
 "nbformat": 4,
 "nbformat_minor": 2
}
